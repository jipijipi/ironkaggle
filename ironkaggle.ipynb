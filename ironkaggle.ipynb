{
 "cells": [
  {
   "cell_type": "markdown",
   "metadata": {
    "vscode": {
     "languageId": "plaintext"
    }
   },
   "source": [
    "# IRON KAGGLE"
   ]
  },
  {
   "cell_type": "markdown",
   "metadata": {},
   "source": [
    "- **shop_ID**: Unique identifier for each shop.\n",
    "- **day_of_the_week**: Encoded from 1 to 7, representing the day of the week.\n",
    "- **date**: Day, month, and year of the data point.\n",
    "- **number_of_customers**: Quantity of customers that visited the shop on that day.\n",
    "- **open**: Binary variable; 0 means the shop was closed, while 1 means it was open.\n",
    "- **promotion**: Binary variable; 0 means no promotions, 1 means there were promotions.\n",
    "- **state_holiday**: Encoded as 0, 'a', 'b', 'c', indicating the presence of a state holiday (0 if none). 'a', 'b', 'c' represent different state holidays.\n",
    "- **school_holiday**: Binary variable; 0 means no school holiday, 1 means there was a school holiday."
   ]
  },
  {
   "cell_type": "markdown",
   "metadata": {},
   "source": [
    "## Lib Loading"
   ]
  },
  {
   "cell_type": "code",
   "execution_count": 1152,
   "metadata": {},
   "outputs": [],
   "source": [
    "import os\n",
    "import pandas as pd\n",
    "import numpy as np\n",
    "\n",
    "from sklearn.model_selection import train_test_split\n",
    "from sklearn.tree import DecisionTreeRegressor\n",
    "from sklearn.ensemble import BaggingRegressor, RandomForestRegressor, AdaBoostRegressor, GradientBoostingRegressor\n",
    "from sklearn.model_selection import GridSearchCV\n",
    "from sklearn.model_selection import RandomizedSearchCV\n",
    "from sklearn.preprocessing import MinMaxScaler, StandardScaler\n",
    "from sklearn.metrics import r2_score, mean_absolute_error, root_mean_squared_error\n",
    "\n",
    "import datetime\n",
    "\n",
    "import matplotlib.pyplot as plt\n",
    "import seaborn as sns\n",
    "\n",
    "from sklearn.neighbors import KNeighborsRegressor\n",
    "from sklearn.linear_model import LinearRegression\n"
   ]
  },
  {
   "cell_type": "markdown",
   "metadata": {},
   "source": [
    "## Data Loading"
   ]
  },
  {
   "cell_type": "code",
   "execution_count": 1153,
   "metadata": {},
   "outputs": [],
   "source": [
    "data = pd.read_csv('data/sales.csv')\n",
    "\n",
    "test_data_no_target = pd.read_csv('data/ironkaggle_notarget.csv')\n",
    "test_data = test_data_no_target.copy()\n",
    "test_data['Sales'] = np.random.uniform(0, 10000, size=len(test_data))\n",
    "\n",
    "sales_df = data.copy()"
   ]
  },
  {
   "cell_type": "code",
   "execution_count": 1154,
   "metadata": {},
   "outputs": [],
   "source": [
    "def compute_store_stats(df):\n",
    "\n",
    "    store_stats = df.groupby('Store_ID').agg({\n",
    "        'Sales': ['mean', 'std', 'median'],\n",
    "        'Nb_customers_on_day': ['mean', 'std', 'median'],\n",
    "        'Promotion': 'mean',  # Promotion frequency\n",
    "        'School_holiday': 'mean',  # School holiday frequency\n",
    "    }).reset_index()\n",
    "\n",
    "    # Flatten column names\n",
    "    store_stats.columns = ['Store_ID'] + [\n",
    "        f'Store_{col[0]}_{col[1]}' for col in store_stats.columns[1:]\n",
    "    ]\n",
    "\n",
    "    # Replace infinity values with NaN\n",
    "    store_stats.replace([np.inf, -np.inf], np.nan, inplace=True)\n",
    "\n",
    "    # Calculate store performance quartiles\n",
    "    store_stats['Store_sales_quartile'] = pd.qcut(\n",
    "        store_stats['Store_Sales_mean'],\n",
    "        q=4,\n",
    "        labels=['Q1', 'Q2', 'Q3', 'Q4']\n",
    "    )\n",
    "\n",
    "    return store_stats\n",
    "\n",
    "def transform_data(df, store_stats=None):\n",
    "    \"\"\"\n",
    "    Transform the given DataFrame by applying feature engineering steps.\n",
    "\n",
    "    Parameters:\n",
    "    df (pd.DataFrame): The DataFrame to transform.\n",
    "    store_stats (pd.DataFrame): DataFrame containing store statistics.\n",
    "\n",
    "    Returns:\n",
    "    pd.DataFrame: Transformed DataFrame.\n",
    "    \"\"\"\n",
    "    df = df.copy()\n",
    "\n",
    "    # Remove rows where 'Open' == 0\n",
    "    #if 'Open' in df.columns:\n",
    "     #   df = df[df['Open'] != 0]\n",
    "\n",
    "    # Convert 'Date' to datetime\n",
    "    df['Date'] = pd.to_datetime(df['Date'])\n",
    "\n",
    "    # Extract date features\n",
    "    df['Year'] = df['Date'].dt.year\n",
    "    df['Month'] = df['Date'].dt.month\n",
    "    df['Day'] = df['Date'].dt.day\n",
    "\n",
    "    # Create 'Is_weekend' feature\n",
    "    if 'Day_of_week' in df.columns:\n",
    "        df['Is_weekend'] = df['Day_of_week'].apply(lambda x: 1 if x >= 6 else 0)\n",
    "    else:\n",
    "        df['Is_weekend'] = np.nan\n",
    "\n",
    "    # Create 'Sales_per_customer' if possible\n",
    "    if 'Sales' in df.columns and 'Nb_customers_on_day' in df.columns:\n",
    "        df['Sales_per_customer'] = df['Sales'] / df['Nb_customers_on_day']\n",
    "        # Replace infinity values with NaN\n",
    "        df['Sales_per_customer'].replace([np.inf, -np.inf], np.nan, inplace=True)\n",
    "    else:\n",
    "        df['Sales_per_customer'] = np.nan\n",
    "\n",
    "    # Create 'Promo_School_Holiday'\n",
    "    if 'Promotion' in df.columns and 'School_holiday' in df.columns:\n",
    "        df['Promo_School_Holiday'] = df['Promotion'] * df['School_holiday']\n",
    "    else:\n",
    "        df['Promo_School_Holiday'] = np.nan\n",
    "\n",
    "    # Merge store_stats if available\n",
    "    if store_stats is not None:\n",
    "        df = df.merge(store_stats, on='Store_ID', how='left')\n",
    "\n",
    "    # One-hot encode 'State_holiday' and 'Store_sales_quartile'\n",
    "    columns_to_encode = []\n",
    "    if 'State_holiday' in df.columns:\n",
    "        columns_to_encode.append('State_holiday')\n",
    "    if 'Store_sales_quartile' in df.columns:\n",
    "        columns_to_encode.append('Store_sales_quartile')\n",
    "    if columns_to_encode:\n",
    "        df = pd.get_dummies(df, columns=columns_to_encode, drop_first=True)\n",
    "\n",
    "    return df"
   ]
  },
  {
   "cell_type": "code",
   "execution_count": 1155,
   "metadata": {},
   "outputs": [],
   "source": [
    "# Compute store statistics\n",
    "store_stats = compute_store_stats(sales_df)"
   ]
  },
  {
   "cell_type": "code",
   "execution_count": null,
   "metadata": {},
   "outputs": [],
   "source": [
    "# Transform the sales data\n",
    "transformed_sales_data = transform_data(sales_df, store_stats=store_stats)"
   ]
  },
  {
   "cell_type": "code",
   "execution_count": null,
   "metadata": {},
   "outputs": [],
   "source": [
    "\n",
    "\n",
    "# Transform the test data\n",
    "transformed_test_data = transform_data(test_data, store_stats=store_stats)"
   ]
  },
  {
   "cell_type": "markdown",
   "metadata": {},
   "source": [
    "## Data Cleaning"
   ]
  },
  {
   "cell_type": "code",
   "execution_count": 1158,
   "metadata": {},
   "outputs": [],
   "source": [
    "#Remove open 0 \n",
    "sales_df = sales_df[sales_df['Open'] != 0]\n"
   ]
  },
  {
   "cell_type": "markdown",
   "metadata": {},
   "source": [
    "## Feature Engineering"
   ]
  },
  {
   "cell_type": "markdown",
   "metadata": {},
   "source": [
    "### Dates"
   ]
  },
  {
   "cell_type": "code",
   "execution_count": 1159,
   "metadata": {},
   "outputs": [],
   "source": [
    "sales_df['Date'] = pd.to_datetime(data['Date'])\n",
    "\n",
    "# Split the dates\n",
    "sales_df['Year'] = sales_df['Date'].dt.year\n",
    "sales_df['Month'] = sales_df['Date'].dt.month\n",
    "sales_df['Day'] = sales_df['Date'].dt.day"
   ]
  },
  {
   "cell_type": "markdown",
   "metadata": {},
   "source": [
    "### Categories"
   ]
  },
  {
   "cell_type": "code",
   "execution_count": null,
   "metadata": {},
   "outputs": [],
   "source": [
    "# Display the updated dataframe\n",
    "display(sales_df.head())"
   ]
  },
  {
   "cell_type": "markdown",
   "metadata": {},
   "source": [
    "### Additional Features"
   ]
  },
  {
   "cell_type": "code",
   "execution_count": null,
   "metadata": {},
   "outputs": [],
   "source": [
    "# Is the day a weekend?\n",
    "sales_df['Is_weekend'] = sales_df['Day_of_week'].apply(lambda x: 1 if x >= 6 else 0)\n",
    "\n",
    "# Add a column to indicate if promotions and holidays are concurrent\n",
    "# Calculate sales per customer\n",
    "sales_df['Sales_per_customer'] = sales_df['Sales'] / sales_df['Nb_customers_on_day']\n",
    "\n",
    "# Replace infinity values with NaN in Sales_per_customer\n",
    "sales_df['Sales_per_customer'].replace([np.inf, -np.inf], np.nan, inplace=True)\n",
    "\n",
    "# Create interaction features\n",
    "#sales_df['Promo_Holiday'] = sales_df['Promotion'] * sales_df['State_holiday']\n",
    "sales_df['Promo_School_Holiday'] = sales_df['Promotion'] * sales_df['School_holiday']"
   ]
  },
  {
   "cell_type": "code",
   "execution_count": 1162,
   "metadata": {},
   "outputs": [],
   "source": [
    "store_stats = sales_df.groupby('Store_ID').agg({\n",
    "    'Sales': ['mean', 'std', 'median'],\n",
    "    'Nb_customers_on_day': ['mean', 'std', 'median'],\n",
    "    'Promotion': 'mean',  # Promotion frequency\n",
    "    'School_holiday': 'mean',  # School holiday frequency\n",
    "}).reset_index()\n",
    "\n",
    "# Flatten column names\n",
    "store_stats.columns = ['Store_ID'] + [\n",
    "    f'Store_{x[0]}_{x[1]}' for x in store_stats.columns[1:]\n",
    "]\n",
    "\n",
    "# Replace infinity values with NaN\n",
    "store_stats.replace([np.inf, -np.inf], np.nan, inplace=True)\n",
    "\n",
    "# Calculate store performance quartiles\n",
    "store_stats['Store_sales_quartile'] = pd.qcut(\n",
    "    store_stats['Store_Sales_mean'], \n",
    "    q=4, \n",
    "    labels=['Q1', 'Q2', 'Q3', 'Q4']\n",
    ")\n",
    "\n",
    "sales_df = sales_df.merge(store_stats, on='Store_ID')"
   ]
  },
  {
   "cell_type": "code",
   "execution_count": 1163,
   "metadata": {},
   "outputs": [],
   "source": [
    "# converts the state holiday column to multiple binary columns\n",
    "sales_df = pd.get_dummies(sales_df, columns=['State_holiday','Store_sales_quartile'], drop_first=True)"
   ]
  },
  {
   "cell_type": "markdown",
   "metadata": {},
   "source": [
    "## Data Split"
   ]
  },
  {
   "cell_type": "markdown",
   "metadata": {},
   "source": [
    "### Define feature & target"
   ]
  },
  {
   "cell_type": "code",
   "execution_count": 1164,
   "metadata": {},
   "outputs": [],
   "source": [
    "sales_df = transformed_sales_data.copy()\n",
    "test_data = transformed_test_data.copy()"
   ]
  },
  {
   "cell_type": "code",
   "execution_count": null,
   "metadata": {},
   "outputs": [],
   "source": [
    "display(sales_df)\n",
    "display(test_data)"
   ]
  },
  {
   "cell_type": "code",
   "execution_count": 1166,
   "metadata": {},
   "outputs": [],
   "source": [
    "features = sales_df.drop(columns=['Sales','Date', 'True_index','Store_ID','Open'])\n",
    "target = sales_df['Sales']\n",
    "\n",
    "test_target = test_data[['Sales']]\n",
    "test_data = test_data.drop(columns=['Sales','Date', 'True_index','Store_ID','Open'])"
   ]
  },
  {
   "cell_type": "code",
   "execution_count": null,
   "metadata": {},
   "outputs": [],
   "source": [
    "display(test_target)\n",
    "display(test_data)"
   ]
  },
  {
   "cell_type": "markdown",
   "metadata": {},
   "source": [
    "### Split the training and test"
   ]
  },
  {
   "cell_type": "code",
   "execution_count": 1168,
   "metadata": {},
   "outputs": [],
   "source": [
    "#TODO Try different sample sizes\n",
    "X_train, X_test, y_train, y_test = train_test_split(features, target, test_size=0.2, random_state=0)"
   ]
  },
  {
   "cell_type": "markdown",
   "metadata": {},
   "source": [
    "## Scaling"
   ]
  },
  {
   "cell_type": "code",
   "execution_count": 1169,
   "metadata": {},
   "outputs": [],
   "source": [
    "#TODO Try different scalers\n",
    "\n",
    "normalizer = MinMaxScaler()\n",
    "\n",
    "normalizer.fit(X_train)\n",
    "\n",
    "X_train_norm = normalizer.transform(X_train)\n",
    "X_test_norm = normalizer.transform(X_test)"
   ]
  },
  {
   "cell_type": "code",
   "execution_count": null,
   "metadata": {},
   "outputs": [],
   "source": [
    "test_data"
   ]
  },
  {
   "cell_type": "code",
   "execution_count": 1171,
   "metadata": {},
   "outputs": [],
   "source": [
    "#TODO Try different scalers\n",
    "\n",
    "test_normalizer = MinMaxScaler()\n",
    "\n",
    "test_normalizer.fit(test_data)\n",
    "\n",
    "test_norm = normalizer.transform(test_data)"
   ]
  },
  {
   "cell_type": "code",
   "execution_count": null,
   "metadata": {},
   "outputs": [],
   "source": [
    "display(pd.DataFrame(test_norm))"
   ]
  },
  {
   "cell_type": "markdown",
   "metadata": {},
   "source": [
    "## Training"
   ]
  },
  {
   "cell_type": "markdown",
   "metadata": {},
   "source": [
    "### Simple models"
   ]
  },
  {
   "cell_type": "code",
   "execution_count": 1173,
   "metadata": {},
   "outputs": [],
   "source": [
    "n_neighbors = 3\n",
    "max_depth = None\n",
    "n_estimators = None\n",
    "max_samples = None\n",
    "max_leafs_nodes = None\n",
    "max_features = None\n",
    "\n",
    "model = KNeighborsRegressor(n_neighbors=n_neighbors, n_jobs=-1)"
   ]
  },
  {
   "cell_type": "code",
   "execution_count": 1174,
   "metadata": {},
   "outputs": [],
   "source": [
    "n_neighbors = 10\n",
    "max_depth = None\n",
    "n_estimators = None\n",
    "max_samples = None\n",
    "max_leafs_nodes = None\n",
    "max_features = None\n",
    "\n",
    "model = KNeighborsRegressor(n_neighbors=n_neighbors, n_jobs=-1)"
   ]
  },
  {
   "cell_type": "code",
   "execution_count": 1175,
   "metadata": {},
   "outputs": [],
   "source": [
    "n_neighbors = None\n",
    "max_depth = None\n",
    "n_estimators = None\n",
    "max_samples = None\n",
    "max_leafs_nodes = None\n",
    "max_features = None\n",
    "\n",
    "model = LinearRegression()"
   ]
  },
  {
   "cell_type": "code",
   "execution_count": 1176,
   "metadata": {},
   "outputs": [],
   "source": [
    "n_neighbors = None\n",
    "max_depth = 10\n",
    "n_estimators = None\n",
    "max_samples = None\n",
    "max_leafs_nodes = None\n",
    "max_features = None\n",
    "\n",
    "model = DecisionTreeRegressor(max_depth=max_depth)"
   ]
  },
  {
   "cell_type": "code",
   "execution_count": 1177,
   "metadata": {},
   "outputs": [],
   "source": [
    "n_neighbors = None\n",
    "max_depth = 1000\n",
    "n_estimators = None\n",
    "max_samples = None\n",
    "max_leafs_nodes = None\n",
    "max_features = None\n",
    "\n",
    "model = DecisionTreeRegressor(max_depth=max_depth)"
   ]
  },
  {
   "cell_type": "code",
   "execution_count": 1178,
   "metadata": {},
   "outputs": [],
   "source": [
    "n_neighbors = None\n",
    "max_depth = 1000\n",
    "n_estimators = None\n",
    "max_samples = None\n",
    "max_leafs_nodes = None\n",
    "max_features = None\n",
    "\n",
    "model = DecisionTreeRegressor(max_depth=max_depth)"
   ]
  },
  {
   "cell_type": "markdown",
   "metadata": {},
   "source": [
    "### Ensemble"
   ]
  },
  {
   "cell_type": "code",
   "execution_count": 1179,
   "metadata": {},
   "outputs": [],
   "source": [
    "n_neighbors = None\n",
    "max_depth = None\n",
    "n_estimators = 100\n",
    "max_samples = 1000\n",
    "max_leafs_nodes = None\n",
    "max_features = None\n",
    "estimator = LinearRegression()\n",
    "\n",
    "model = BaggingRegressor(estimator, n_estimators=n_estimators, max_samples=max_samples)"
   ]
  },
  {
   "cell_type": "code",
   "execution_count": 1180,
   "metadata": {},
   "outputs": [],
   "source": [
    "n_neighbors = 10\n",
    "max_depth = None\n",
    "n_estimators = 100\n",
    "max_samples = 1000\n",
    "max_leafs_nodes = None\n",
    "max_features = None\n",
    "estimator = KNeighborsRegressor(n_neighbors=n_neighbors, n_jobs=-1)\n",
    "\n",
    "model = BaggingRegressor(estimator, n_estimators=n_estimators, max_samples=max_samples)"
   ]
  },
  {
   "cell_type": "code",
   "execution_count": 1181,
   "metadata": {},
   "outputs": [],
   "source": [
    "n_neighbors = None\n",
    "max_depth = 1000\n",
    "n_estimators = 100\n",
    "max_samples = 1000\n",
    "max_leafs_nodes = None\n",
    "max_features = None\n",
    "estimator = DecisionTreeRegressor(max_depth=max_depth)\n",
    "\n",
    "model = BaggingRegressor(estimator, n_estimators=n_estimators, max_samples=max_samples)"
   ]
  },
  {
   "cell_type": "code",
   "execution_count": 1182,
   "metadata": {},
   "outputs": [],
   "source": [
    "n_neighbors = None\n",
    "max_depth = 1000\n",
    "n_estimators = 100\n",
    "max_samples = 1000\n",
    "max_leafs_nodes = None\n",
    "max_features = None\n",
    "estimator = DecisionTreeRegressor(max_depth=max_depth)\n",
    "\n",
    "model = BaggingRegressor(estimator, n_estimators=n_estimators, max_samples=max_samples, bootstrap=False)"
   ]
  },
  {
   "cell_type": "code",
   "execution_count": 1183,
   "metadata": {},
   "outputs": [],
   "source": [
    "n_neighbors = None\n",
    "max_depth = 1000\n",
    "n_estimators = 100\n",
    "max_samples = None\n",
    "max_leafs_nodes = None\n",
    "max_features = None\n",
    "estimator = None\n",
    "\n",
    "model = RandomForestRegressor(n_estimators=n_estimators, max_depth=max_depth, n_jobs=-1)"
   ]
  },
  {
   "cell_type": "code",
   "execution_count": 1184,
   "metadata": {},
   "outputs": [],
   "source": [
    "n_neighbors = None\n",
    "max_depth = 100\n",
    "n_estimators = 100\n",
    "max_samples = None\n",
    "max_leafs_nodes = None\n",
    "max_features = None\n",
    "estimator = DecisionTreeRegressor(max_depth=max_depth)\n",
    "\n",
    "model = AdaBoostRegressor(n_estimators=n_estimators)"
   ]
  },
  {
   "cell_type": "code",
   "execution_count": 1185,
   "metadata": {},
   "outputs": [],
   "source": [
    "n_neighbors = 10\n",
    "max_depth = None\n",
    "n_estimators = 100\n",
    "max_samples = None\n",
    "max_leafs_nodes = None\n",
    "max_features = None\n",
    "estimator = KNeighborsRegressor(n_neighbors=n_neighbors, n_jobs=-1)\n",
    "\n",
    "model = AdaBoostRegressor(n_estimators=n_estimators)"
   ]
  },
  {
   "cell_type": "code",
   "execution_count": 1186,
   "metadata": {},
   "outputs": [],
   "source": [
    "n_neighbors = None\n",
    "max_depth = None\n",
    "n_estimators = 100\n",
    "max_samples = None\n",
    "max_leafs_nodes = None\n",
    "max_features = None\n",
    "estimator = LinearRegression()\n",
    "\n",
    "model = AdaBoostRegressor(n_estimators=n_estimators)"
   ]
  },
  {
   "cell_type": "code",
   "execution_count": 1187,
   "metadata": {},
   "outputs": [],
   "source": [
    "n_neighbors = None\n",
    "max_depth = 100\n",
    "n_estimators = 100\n",
    "max_samples = None\n",
    "max_leafs_nodes = None\n",
    "max_features = None\n",
    "estimator = None\n",
    "\n",
    "model = GradientBoostingRegressor(max_depth=max_depth,  n_estimators=n_estimators, verbose=1)"
   ]
  },
  {
   "cell_type": "code",
   "execution_count": 1188,
   "metadata": {},
   "outputs": [],
   "source": [
    "n_neighbors = None\n",
    "max_depth = 20\n",
    "n_estimators = 100\n",
    "max_samples = None\n",
    "max_leafs_nodes = None\n",
    "max_features = None\n",
    "estimator = None\n",
    "\n",
    "model = GradientBoostingRegressor(max_depth=max_depth,  n_estimators=n_estimators, verbose=1)"
   ]
  },
  {
   "cell_type": "markdown",
   "metadata": {},
   "source": [
    "### Active"
   ]
  },
  {
   "cell_type": "code",
   "execution_count": 1189,
   "metadata": {},
   "outputs": [],
   "source": [
    "n_neighbors = None\n",
    "max_depth = 400\n",
    "n_estimators = 50\n",
    "max_samples = None\n",
    "max_leafs_nodes = None\n",
    "max_features = None\n",
    "estimator = None\n",
    "\n",
    "model = RandomForestRegressor(\n",
    "    n_estimators=n_estimators, max_depth=max_depth, n_jobs=-1)"
   ]
  },
  {
   "cell_type": "markdown",
   "metadata": {},
   "source": [
    "### Fine Tuning"
   ]
  },
  {
   "cell_type": "code",
   "execution_count": 1190,
   "metadata": {},
   "outputs": [],
   "source": [
    "param_grid = {\n",
    "    'n_estimators': [50, 200],\n",
    "    'max_depth': [10, 400],\n",
    "}"
   ]
  },
  {
   "cell_type": "code",
   "execution_count": 1191,
   "metadata": {},
   "outputs": [],
   "source": [
    "#model = GridSearchCV(estimator = RandomForestRegressor(), param_grid = param_grid, cv=5, n_jobs=-1, verbose=4) \n"
   ]
  },
  {
   "cell_type": "markdown",
   "metadata": {},
   "source": [
    "## Evaluation"
   ]
  },
  {
   "cell_type": "code",
   "execution_count": null,
   "metadata": {},
   "outputs": [],
   "source": [
    "model.fit(X_train_norm, y_train)"
   ]
  },
  {
   "cell_type": "code",
   "execution_count": 1193,
   "metadata": {},
   "outputs": [],
   "source": [
    "#best_model = model.best_estimator_\n",
    "#best_model_1 = model"
   ]
  },
  {
   "cell_type": "code",
   "execution_count": null,
   "metadata": {},
   "outputs": [],
   "source": [
    "\"\"\" # Convert the cv_results_ to a DataFrame\n",
    "results_df = pd.DataFrame(model.cv_results_)\n",
    "\n",
    "# Define the file name\n",
    "file_name = 'grid_search_results.csv'\n",
    "\n",
    "# Check if the file already exists\n",
    "if os.path.isfile(file_name):\n",
    "    # If the file exists, append the new results without writing the header\n",
    "    results_df.to_csv(file_name, mode='a', header=False, index=False)\n",
    "else:\n",
    "    # If the file does not exist, create it and write the header\n",
    "    results_df.to_csv(file_name, mode='w', header=True, index=False) \"\"\""
   ]
  },
  {
   "cell_type": "code",
   "execution_count": null,
   "metadata": {},
   "outputs": [],
   "source": [
    "# Get the regressor name and the estimator name programmatically\n",
    "regressor_name = type(model).__name__\n",
    "estimator_name = type(estimator).__name__\n",
    "\n",
    "print(f\"Regressor: {regressor_name}, Estimator: {estimator_name}\")\n",
    "\n",
    "model_name = type(model).__name__\n",
    "\n",
    "#pred = model.predict(X_test_norm)\n",
    "pred = model.predict(test_norm)\n",
    "\n",
    "test_data_no_target['Predicted_Sales'] = pred\n",
    "result = test_data_no_target[['True_index', 'Predicted_Sales']]\n",
    "\n",
    "display(result)\n",
    "\n",
    "\"\"\" mae = mean_absolute_error(pred, y_test)\n",
    "rmse = root_mean_squared_error(pred, y_test)\n",
    "r2 = model.score(X_test_norm, y_test) \"\"\"\n",
    "\n",
    "mae = mean_absolute_error(pred, test_target)\n",
    "rmse = root_mean_squared_error(pred, test_target)\n",
    "r2 = model.score(test_norm, test_target)\n",
    "\n",
    "# Create a DataFrame with the current model results\n",
    "current_results = pd.DataFrame([{\n",
    "    'Model': f'{model_name} > {estimator_name}' if 'estimator_name' in locals() else model_name,\n",
    "    'n_neighbors': n_neighbors,\n",
    "    'max_depth': max_depth,\n",
    "    'n_estimators': n_estimators,\n",
    "    'max_samples': max_samples,\n",
    "    'max_leafs_nodes': max_leafs_nodes,\n",
    "    'max_features' : max_features,\n",
    "    'MAE': mae,\n",
    "    'RMSE': rmse,\n",
    "    'R2_score': r2,\n",
    "}])\n",
    "\n",
    "display(current_results)\n",
    "\n",
    "file_name = 'results.csv'\n",
    "# Check if the file already exists\n",
    "if os.path.isfile(file_name):\n",
    "    # If the file exists, append the new results without writing the header\n",
    "    current_results.to_csv(file_name, mode='a', header=False, index=False)\n",
    "else:\n",
    "    # If the file does not exist, create it and write the header\n",
    "    current_results.to_csv(file_name, mode='w', header=True, index=False)"
   ]
  },
  {
   "cell_type": "markdown",
   "metadata": {},
   "source": [
    "## Testing"
   ]
  },
  {
   "cell_type": "code",
   "execution_count": 1196,
   "metadata": {},
   "outputs": [],
   "source": [
    "result.to_csv('ironkaggle_final_batman_robin.csv', mode='a', header=True, index=False)"
   ]
  }
 ],
 "metadata": {
  "kernelspec": {
   "display_name": "base",
   "language": "python",
   "name": "python3"
  },
  "language_info": {
   "codemirror_mode": {
    "name": "ipython",
    "version": 3
   },
   "file_extension": ".py",
   "mimetype": "text/x-python",
   "name": "python",
   "nbconvert_exporter": "python",
   "pygments_lexer": "ipython3",
   "version": "3.12.4"
  }
 },
 "nbformat": 4,
 "nbformat_minor": 2
}
